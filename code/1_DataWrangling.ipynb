{
 "cells": [
  {
   "cell_type": "markdown",
   "metadata": {
    "collapsed": true
   },
   "source": [
    "# Predicting Revenue from Parking Citations in Baltimore\n",
    "Capstone Project for Springboard Data Science Bootcamp\n",
    "\n",
    "Tamara Monge\n",
    "\n",
    "### Section 1: Data Wrangling"
   ]
  },
  {
   "cell_type": "code",
   "execution_count": 1,
   "metadata": {
    "collapsed": true
   },
   "outputs": [],
   "source": [
    "# import libraries\n",
    "import pandas as pd\n",
    "from datetime import datetime, date\n",
    "from IPython.core.interactiveshell import InteractiveShell\n",
    "InteractiveShell.ast_node_interactivity = \"all\" "
   ]
  },
  {
   "cell_type": "code",
   "execution_count": 2,
   "metadata": {},
   "outputs": [
    {
     "name": "stderr",
     "output_type": "stream",
     "text": [
      "/Users/tami/anaconda/lib/python3.6/site-packages/IPython/core/interactiveshell.py:2717: DtypeWarning: Columns (2) have mixed types. Specify dtype option on import or set low_memory=False.\n",
      "  interactivity=interactivity, compiler=compiler, result=result)\n"
     ]
    }
   ],
   "source": [
    "# import datasets: df1, df2\n",
    "df1 = pd.read_csv('../data/Parking_Citations_2017-09-25.csv')\n",
    "df2 = pd.read_csv('../data/Parking_Citations_2017-11-30.csv')"
   ]
  },
  {
   "cell_type": "code",
   "execution_count": 3,
   "metadata": {},
   "outputs": [
    {
     "name": "stdout",
     "output_type": "stream",
     "text": [
      "<class 'pandas.core.frame.DataFrame'>\n",
      "RangeIndex: 1345053 entries, 0 to 1345052\n",
      "Data columns (total 21 columns):\n",
      "Citation           1345053 non-null int64\n",
      "Tag                1344837 non-null object\n",
      "ExpMM              1300960 non-null object\n",
      "ExpYY              1345047 non-null float64\n",
      "State              1345053 non-null object\n",
      "Make               1343712 non-null object\n",
      "Address            1345051 non-null object\n",
      "ViolCode           1344668 non-null float64\n",
      "Description        1345053 non-null object\n",
      "ViolFine           1344668 non-null object\n",
      "ViolDate           1340590 non-null object\n",
      "Balance            1345053 non-null object\n",
      "PenaltyDate        0 non-null float64\n",
      "OpenFine           1344668 non-null object\n",
      "OpenPenalty        1344668 non-null object\n",
      "NoticeDate         602001 non-null object\n",
      "ImportDate         1345053 non-null object\n",
      "Neighborhood       206670 non-null object\n",
      "PoliceDistrict     206670 non-null object\n",
      "CouncilDistrict    206691 non-null float64\n",
      "Location           1323450 non-null object\n",
      "dtypes: float64(4), int64(1), object(16)\n",
      "memory usage: 215.5+ MB\n",
      "<class 'pandas.core.frame.DataFrame'>\n",
      "RangeIndex: 1504302 entries, 0 to 1504301\n",
      "Data columns (total 21 columns):\n",
      "Citation           1504302 non-null int64\n",
      "Tag                1504081 non-null object\n",
      "ExpMM              1456758 non-null object\n",
      "ExpYY              1504296 non-null float64\n",
      "State              1504302 non-null object\n",
      "Make               1502932 non-null object\n",
      "Address            1504300 non-null object\n",
      "ViolCode           1503917 non-null float64\n",
      "Description        1504302 non-null object\n",
      "ViolFine           1503917 non-null object\n",
      "ViolDate           1499839 non-null object\n",
      "Balance            1504302 non-null object\n",
      "PenaltyDate        0 non-null float64\n",
      "OpenFine           1503917 non-null object\n",
      "OpenPenalty        1503917 non-null object\n",
      "NoticeDate         602051 non-null object\n",
      "ImportDate         1504302 non-null object\n",
      "Neighborhood       217227 non-null object\n",
      "PoliceDistrict     217227 non-null object\n",
      "CouncilDistrict    217248 non-null float64\n",
      "Location           1482882 non-null object\n",
      "dtypes: float64(4), int64(1), object(16)\n",
      "memory usage: 241.0+ MB\n"
     ]
    }
   ],
   "source": [
    "df1.info()\n",
    "df2.info()"
   ]
  },
  {
   "cell_type": "markdown",
   "metadata": {},
   "source": [
    "As shown above, the two original dataframes were composed of \\~2.8 million records and 21 columns: 16 object Series (`Tag`, `ExpMM`, `State`, `Make`, `Address`, `Description`, `ViolFine`, `ViolDate`, `Balance`, `OpenFine`, `OpenPenalty`, `NoticeDate`, `ImportDate`, `Neighborhood`, `PoliceDistrict`, `Location`), 4 float64 Series (`ExpYY`, `ViolCode`, `PenaltyDate`, `CouncilDistrict`) and 1 int64 Series (`Citation`). The original dataframes occupied \\~450 MB in size."
   ]
  },
  {
   "cell_type": "code",
   "execution_count": 4,
   "metadata": {
    "collapsed": true
   },
   "outputs": [],
   "source": [
    "# convert ViolDate to datetime object \n",
    "df1['ViolDate'] = df1['ViolDate'][pd.notnull(df1['ViolDate'])].apply(lambda x: datetime.strptime(x, '%m/%d/%Y %I:%M:%S %p'))\n",
    "df2['ViolDate'] = df2['ViolDate'][pd.notnull(df2['ViolDate'])].apply(lambda x: datetime.strptime(x, '%m/%d/%Y %I:%M:%S %p'))"
   ]
  },
  {
   "cell_type": "code",
   "execution_count": 5,
   "metadata": {
    "scrolled": false
   },
   "outputs": [
    {
     "data": {
      "text/plain": [
       "(1503910, 21)"
      ]
     },
     "execution_count": 5,
     "metadata": {},
     "output_type": "execute_result"
    },
    {
     "data": {
      "text/html": [
       "<div>\n",
       "<style scoped>\n",
       "    .dataframe tbody tr th:only-of-type {\n",
       "        vertical-align: middle;\n",
       "    }\n",
       "\n",
       "    .dataframe tbody tr th {\n",
       "        vertical-align: top;\n",
       "    }\n",
       "\n",
       "    .dataframe thead th {\n",
       "        text-align: right;\n",
       "    }\n",
       "</style>\n",
       "<table border=\"1\" class=\"dataframe\">\n",
       "  <thead>\n",
       "    <tr style=\"text-align: right;\">\n",
       "      <th></th>\n",
       "      <th>Citation</th>\n",
       "      <th>Tag</th>\n",
       "      <th>ExpMM</th>\n",
       "      <th>ExpYY</th>\n",
       "      <th>State</th>\n",
       "      <th>Make</th>\n",
       "      <th>Address</th>\n",
       "      <th>ViolCode</th>\n",
       "      <th>Description</th>\n",
       "      <th>ViolFine</th>\n",
       "      <th>...</th>\n",
       "      <th>Balance</th>\n",
       "      <th>PenaltyDate</th>\n",
       "      <th>OpenFine</th>\n",
       "      <th>OpenPenalty</th>\n",
       "      <th>NoticeDate</th>\n",
       "      <th>ImportDate</th>\n",
       "      <th>Neighborhood</th>\n",
       "      <th>PoliceDistrict</th>\n",
       "      <th>CouncilDistrict</th>\n",
       "      <th>Location</th>\n",
       "    </tr>\n",
       "  </thead>\n",
       "  <tbody>\n",
       "    <tr>\n",
       "      <th>0</th>\n",
       "      <td>79764791</td>\n",
       "      <td>9RX368</td>\n",
       "      <td>00</td>\n",
       "      <td>11.0</td>\n",
       "      <td>WV</td>\n",
       "      <td>INFIN</td>\n",
       "      <td>6000 CHINQUAPIN PKWY</td>\n",
       "      <td>19.0</td>\n",
       "      <td>Exceeding 48 Hours</td>\n",
       "      <td>$32.00</td>\n",
       "      <td>...</td>\n",
       "      <td>$332.00</td>\n",
       "      <td>NaN</td>\n",
       "      <td>$32.00</td>\n",
       "      <td>$300.00</td>\n",
       "      <td>10/31/2011</td>\n",
       "      <td>05/09/2013 04:03:00 AM +0000</td>\n",
       "      <td>NaN</td>\n",
       "      <td>NaN</td>\n",
       "      <td>NaN</td>\n",
       "      <td>6000 CHINQUAPIN PKWY\\nBaltimore, MD\\n(39.36509...</td>\n",
       "    </tr>\n",
       "    <tr>\n",
       "      <th>1</th>\n",
       "      <td>79799128</td>\n",
       "      <td>00T058</td>\n",
       "      <td>06</td>\n",
       "      <td>11.0</td>\n",
       "      <td>MD</td>\n",
       "      <td>GMC</td>\n",
       "      <td>O/S 3600 GLENGYLE AVENUE</td>\n",
       "      <td>22.0</td>\n",
       "      <td>Expired Tags</td>\n",
       "      <td>$32.00</td>\n",
       "      <td>...</td>\n",
       "      <td>$332.00</td>\n",
       "      <td>NaN</td>\n",
       "      <td>$32.00</td>\n",
       "      <td>$300.00</td>\n",
       "      <td>01/04/2012</td>\n",
       "      <td>08/09/2013 04:03:00 AM +0000</td>\n",
       "      <td>NaN</td>\n",
       "      <td>NaN</td>\n",
       "      <td>NaN</td>\n",
       "      <td>3600 GLENGYLE AVENUE\\nBaltimore, MD\\n(39.36725...</td>\n",
       "    </tr>\n",
       "    <tr>\n",
       "      <th>2</th>\n",
       "      <td>79741567</td>\n",
       "      <td>6926L6</td>\n",
       "      <td>03</td>\n",
       "      <td>13.0</td>\n",
       "      <td>MD</td>\n",
       "      <td>FORD</td>\n",
       "      <td>1000 VINE ST</td>\n",
       "      <td>18.0</td>\n",
       "      <td>All Other Parking Meter Violations</td>\n",
       "      <td>$32.00</td>\n",
       "      <td>...</td>\n",
       "      <td>$357.00</td>\n",
       "      <td>NaN</td>\n",
       "      <td>$32.00</td>\n",
       "      <td>$325.00</td>\n",
       "      <td>10/19/2011</td>\n",
       "      <td>05/09/2013 04:03:00 AM +0000</td>\n",
       "      <td>NaN</td>\n",
       "      <td>NaN</td>\n",
       "      <td>NaN</td>\n",
       "      <td>1000 VINE ST\\nBaltimore, MD\\n(39.290402, -76.6...</td>\n",
       "    </tr>\n",
       "    <tr>\n",
       "      <th>3</th>\n",
       "      <td>79751210</td>\n",
       "      <td>1FZL87</td>\n",
       "      <td>05</td>\n",
       "      <td>10.0</td>\n",
       "      <td>MD</td>\n",
       "      <td>HOND</td>\n",
       "      <td>4200 CONNECTICUT AVE</td>\n",
       "      <td>22.0</td>\n",
       "      <td>Expired Tags</td>\n",
       "      <td>$32.00</td>\n",
       "      <td>...</td>\n",
       "      <td>$332.00</td>\n",
       "      <td>NaN</td>\n",
       "      <td>$32.00</td>\n",
       "      <td>$300.00</td>\n",
       "      <td>08/31/2011</td>\n",
       "      <td>05/07/2013 10:41:00 AM +0000</td>\n",
       "      <td>Irvington</td>\n",
       "      <td>Southwestern</td>\n",
       "      <td>8.0</td>\n",
       "      <td>4200 CONNECTICUT AVE\\nBaltimore, MD\\n(39.28429...</td>\n",
       "    </tr>\n",
       "    <tr>\n",
       "      <th>4</th>\n",
       "      <td>79751160</td>\n",
       "      <td>TW2578</td>\n",
       "      <td>SEP</td>\n",
       "      <td>10.0</td>\n",
       "      <td>VA</td>\n",
       "      <td>MERC</td>\n",
       "      <td>4640 COLEHERNE RD</td>\n",
       "      <td>22.0</td>\n",
       "      <td>Expired Tags</td>\n",
       "      <td>$32.00</td>\n",
       "      <td>...</td>\n",
       "      <td>$332.00</td>\n",
       "      <td>NaN</td>\n",
       "      <td>$32.00</td>\n",
       "      <td>$300.00</td>\n",
       "      <td>12/29/2011</td>\n",
       "      <td>07/09/2013 04:02:00 AM +0000</td>\n",
       "      <td>NaN</td>\n",
       "      <td>NaN</td>\n",
       "      <td>NaN</td>\n",
       "      <td>4640 COLEHERNE RD\\nBaltimore, MD\\n(39.294882, ...</td>\n",
       "    </tr>\n",
       "  </tbody>\n",
       "</table>\n",
       "<p>5 rows × 21 columns</p>\n",
       "</div>"
      ],
      "text/plain": [
       "   Citation     Tag ExpMM  ExpYY State   Make                   Address  \\\n",
       "0  79764791  9RX368    00   11.0    WV  INFIN      6000 CHINQUAPIN PKWY   \n",
       "1  79799128  00T058    06   11.0    MD    GMC  O/S 3600 GLENGYLE AVENUE   \n",
       "2  79741567  6926L6    03   13.0    MD   FORD              1000 VINE ST   \n",
       "3  79751210  1FZL87    05   10.0    MD   HOND      4200 CONNECTICUT AVE   \n",
       "4  79751160  TW2578   SEP   10.0    VA   MERC         4640 COLEHERNE RD   \n",
       "\n",
       "   ViolCode                         Description ViolFine  \\\n",
       "0      19.0                  Exceeding 48 Hours   $32.00   \n",
       "1      22.0                        Expired Tags   $32.00   \n",
       "2      18.0  All Other Parking Meter Violations   $32.00   \n",
       "3      22.0                        Expired Tags   $32.00   \n",
       "4      22.0                        Expired Tags   $32.00   \n",
       "\n",
       "                         ...                          Balance PenaltyDate  \\\n",
       "0                        ...                          $332.00         NaN   \n",
       "1                        ...                          $332.00         NaN   \n",
       "2                        ...                          $357.00         NaN   \n",
       "3                        ...                          $332.00         NaN   \n",
       "4                        ...                          $332.00         NaN   \n",
       "\n",
       "   OpenFine OpenPenalty  NoticeDate                    ImportDate  \\\n",
       "0    $32.00     $300.00  10/31/2011  05/09/2013 04:03:00 AM +0000   \n",
       "1    $32.00     $300.00  01/04/2012  08/09/2013 04:03:00 AM +0000   \n",
       "2    $32.00     $325.00  10/19/2011  05/09/2013 04:03:00 AM +0000   \n",
       "3    $32.00     $300.00  08/31/2011  05/07/2013 10:41:00 AM +0000   \n",
       "4    $32.00     $300.00  12/29/2011  07/09/2013 04:02:00 AM +0000   \n",
       "\n",
       "  Neighborhood PoliceDistrict CouncilDistrict  \\\n",
       "0          NaN            NaN             NaN   \n",
       "1          NaN            NaN             NaN   \n",
       "2          NaN            NaN             NaN   \n",
       "3    Irvington   Southwestern             8.0   \n",
       "4          NaN            NaN             NaN   \n",
       "\n",
       "                                            Location  \n",
       "0  6000 CHINQUAPIN PKWY\\nBaltimore, MD\\n(39.36509...  \n",
       "1  3600 GLENGYLE AVENUE\\nBaltimore, MD\\n(39.36725...  \n",
       "2  1000 VINE ST\\nBaltimore, MD\\n(39.290402, -76.6...  \n",
       "3  4200 CONNECTICUT AVE\\nBaltimore, MD\\n(39.28429...  \n",
       "4  4640 COLEHERNE RD\\nBaltimore, MD\\n(39.294882, ...  \n",
       "\n",
       "[5 rows x 21 columns]"
      ]
     },
     "execution_count": 5,
     "metadata": {},
     "output_type": "execute_result"
    }
   ],
   "source": [
    "# merge dataframes\n",
    "df = pd.merge(df1, df2, how='outer')\n",
    "df = df.drop_duplicates('Citation')\n",
    "df.shape\n",
    "df.head()"
   ]
  },
  {
   "cell_type": "code",
   "execution_count": 6,
   "metadata": {
    "scrolled": true
   },
   "outputs": [
    {
     "name": "stdout",
     "output_type": "stream",
     "text": [
      "<class 'pandas.core.frame.DataFrame'>\n",
      "Int64Index: 1503910 entries, 0 to 1780483\n",
      "Data columns (total 21 columns):\n",
      "Citation           1503910 non-null int64\n",
      "Tag                1503689 non-null object\n",
      "ExpMM              1456379 non-null object\n",
      "ExpYY              1503904 non-null float64\n",
      "State              1503910 non-null object\n",
      "Make               1502540 non-null object\n",
      "Address            1503908 non-null object\n",
      "ViolCode           1503626 non-null float64\n",
      "Description        1503910 non-null object\n",
      "ViolFine           1503626 non-null object\n",
      "ViolDate           1499548 non-null datetime64[ns]\n",
      "Balance            1503910 non-null object\n",
      "PenaltyDate        0 non-null float64\n",
      "OpenFine           1503626 non-null object\n",
      "OpenPenalty        1503626 non-null object\n",
      "NoticeDate         601821 non-null object\n",
      "ImportDate         1503910 non-null object\n",
      "Neighborhood       217175 non-null object\n",
      "PoliceDistrict     217175 non-null object\n",
      "CouncilDistrict    217196 non-null float64\n",
      "Location           1482411 non-null object\n",
      "dtypes: datetime64[ns](1), float64(4), int64(1), object(15)\n",
      "memory usage: 252.4+ MB\n"
     ]
    }
   ],
   "source": [
    "# see what df looks like now\n",
    "df.info()"
   ]
  },
  {
   "cell_type": "markdown",
   "metadata": {},
   "source": [
    "The merged dataframe contains \\~1.5 million records."
   ]
  },
  {
   "cell_type": "code",
   "execution_count": 7,
   "metadata": {},
   "outputs": [
    {
     "data": {
      "text/plain": [
       "Index(['Citation', 'Tag', 'ExpMM', 'ExpYY', 'State', 'Make', 'Address',\n",
       "       'ViolCode', 'Description', 'ViolFine', 'ViolDate', 'Balance',\n",
       "       'PenaltyDate', 'OpenFine', 'OpenPenalty', 'NoticeDate', 'ImportDate',\n",
       "       'Neighborhood', 'PoliceDistrict', 'CouncilDistrict', 'Location'],\n",
       "      dtype='object')"
      ]
     },
     "execution_count": 7,
     "metadata": {},
     "output_type": "execute_result"
    }
   ],
   "source": [
    "df.columns"
   ]
  },
  {
   "cell_type": "code",
   "execution_count": 8,
   "metadata": {
    "collapsed": true
   },
   "outputs": [],
   "source": [
    "# drop irrelevant columns\n",
    "df.drop(['ExpMM', 'ExpYY', 'PenaltyDate', 'NoticeDate', 'ImportDate', 'Neighborhood', 'PoliceDistrict', 'CouncilDistrict'], axis=1, inplace=True)"
   ]
  },
  {
   "cell_type": "code",
   "execution_count": 9,
   "metadata": {
    "collapsed": true
   },
   "outputs": [],
   "source": [
    "# rename columns for ease of operations\n",
    "df.columns =['cit', 'tag', 'state', 'make', 'add', 'code', 'desc', 'fine', 'date', 'bal', 'ofine', 'openalty', 'loc']"
   ]
  },
  {
   "cell_type": "code",
   "execution_count": 10,
   "metadata": {},
   "outputs": [
    {
     "data": {
      "text/plain": [
       "(912308, 13)"
      ]
     },
     "execution_count": 10,
     "metadata": {},
     "output_type": "execute_result"
    }
   ],
   "source": [
    "# extract relevant cohort\n",
    "df = df[:][df['date'] >= '2015-09-23']\n",
    "df.shape"
   ]
  },
  {
   "cell_type": "markdown",
   "metadata": {},
   "source": [
    "Relevant cohort contains 912,308 records."
   ]
  },
  {
   "cell_type": "code",
   "execution_count": 11,
   "metadata": {
    "collapsed": true
   },
   "outputs": [],
   "source": [
    "# break location into longitude and latitude\n",
    "def find_longitude(location):\n",
    "    \"\"\"Ingest location and return longitude\"\"\"\n",
    "    longitude = float('NaN')\n",
    "    if type(location) == str:\n",
    "        if ((len(location.split('\\n')) > 2) and (location.split('\\n')[2] != '')):\n",
    "            longitude = float(location.split('\\n')[2].split('(')[1].split(',')[1].split(')')[0])       \n",
    "    return longitude\n",
    "df['lon'] = df['loc'].apply(find_longitude)\n",
    "\n",
    "def find_latitude(location):\n",
    "    \"\"\"Ingest location and return latitude\"\"\"\n",
    "    latitude = float('NaN')\n",
    "    if type(location) == str:\n",
    "        if ((len(location.split('\\n')) > 2) and (location.split('\\n')[2] != '')):\n",
    "            latitude = float(location.split('\\n')[2].split('(')[1].split(',')[0])\n",
    "    return latitude\n",
    "df['lat'] = df['loc'].apply(find_latitude)"
   ]
  },
  {
   "cell_type": "code",
   "execution_count": 12,
   "metadata": {
    "collapsed": true
   },
   "outputs": [],
   "source": [
    "# build dictionary of address:(longitude,latitude) to fill in rows with missing (lon,lat) data\n",
    "df['lonlat'] = list(zip(df['lon'], df['lat']))\n",
    "lonlatadd = list(zip(df['add'], df['lonlat']))\n",
    "lonlat_dict = dict(lonlatadd)\n",
    "df['lonlat'] = df['add'].map(lonlat_dict)"
   ]
  },
  {
   "cell_type": "markdown",
   "metadata": {},
   "source": [
    "Prior to filling in missing lonlat values with dictionary 29.7% were missing; afterwards, 29% were missing; an increase in populated values of 0.7%. This is not a significant increase, so instead we will simply drop the records missing `lonlat.`"
   ]
  },
  {
   "cell_type": "code",
   "execution_count": 13,
   "metadata": {
    "collapsed": true
   },
   "outputs": [],
   "source": [
    "# drop records missing lat,lon information\n",
    "df.dropna(axis=0, how='any', subset=['lat', 'lon'], inplace=True)"
   ]
  },
  {
   "cell_type": "code",
   "execution_count": 14,
   "metadata": {},
   "outputs": [
    {
     "data": {
      "text/plain": [
       "(641072, 16)"
      ]
     },
     "execution_count": 14,
     "metadata": {},
     "output_type": "execute_result"
    }
   ],
   "source": [
    "df.shape"
   ]
  },
  {
   "cell_type": "markdown",
   "metadata": {},
   "source": [
    "70.3% of records (641,072) contain spatial information."
   ]
  },
  {
   "cell_type": "code",
   "execution_count": 15,
   "metadata": {
    "collapsed": true
   },
   "outputs": [],
   "source": [
    "# define bounding box for baltimore area\n",
    "northedge = 39.372446\n",
    "eastedge = -76.529461\n",
    "southedge = 39.196925\n",
    "westedge = -76.711344                   "
   ]
  },
  {
   "cell_type": "code",
   "execution_count": 16,
   "metadata": {},
   "outputs": [
    {
     "data": {
      "text/plain": [
       "(623639, 16)"
      ]
     },
     "execution_count": 16,
     "metadata": {},
     "output_type": "execute_result"
    }
   ],
   "source": [
    "# remove observations outside the baltimore area\n",
    "df = df[df['lat'] >= southedge]\n",
    "df = df[df['lat'] <= northedge]\n",
    "df = df[df['lon'] >= westedge]\n",
    "df = df[df['lon'] <= eastedge]\n",
    "df.shape"
   ]
  },
  {
   "cell_type": "markdown",
   "metadata": {},
   "source": [
    "97.3% of records (623,639) fall within Baltimore bounding box."
   ]
  },
  {
   "cell_type": "code",
   "execution_count": 17,
   "metadata": {
    "collapsed": true
   },
   "outputs": [],
   "source": [
    "# break violdate into year, month, day, and hour columns\n",
    "df['yr'] = df['date'][pd.notnull(df['date'])].dt.year.astype(int)\n",
    "df['mo'] = df['date'][pd.notnull(df['date'])].dt.month.astype(int)\n",
    "df['day'] = df['date'][pd.notnull(df['date'])].dt.day.astype(int)\n",
    "df['hr'] = df['date'][pd.notnull(df['date'])].dt.hour.astype(int)"
   ]
  },
  {
   "cell_type": "code",
   "execution_count": 18,
   "metadata": {
    "collapsed": true
   },
   "outputs": [],
   "source": [
    "# clean financial columns\n",
    "df['fine'] = df['fine'][df['fine'].apply(type) == str].apply(lambda x: x[1:]).astype(float) \n",
    "df['bal'] = df['bal'][df['bal'].apply(type) == str].apply(lambda x: x[1:]).astype(float)   \n",
    "df['ofine'] = df['ofine'][df['ofine'].apply(type) == str].apply(lambda x: x[1:]).astype(float)   \n",
    "df['openalty'] = df['openalty'][df['openalty'].apply(type) == str].apply(lambda x: x[1:]).astype(float)   "
   ]
  },
  {
   "cell_type": "code",
   "execution_count": 19,
   "metadata": {
    "collapsed": true
   },
   "outputs": [],
   "source": [
    "# standardize case and length of string columns\n",
    "df['state'] = df['state'].str.upper()\n",
    "df['make'] = df['make'].str.upper()\n",
    "df['make'] = df['make'][df['make'].apply(type) == str].apply(lambda x: x[:3]) \n",
    "df['add'] = df['add'].str.upper()\n",
    "df['desc'] = df['desc'].str.upper()"
   ]
  },
  {
   "cell_type": "markdown",
   "metadata": {},
   "source": [
    "Now, let's simplify our `state` and `balance` variables to be binary variables: `instate` and `paid`. "
   ]
  },
  {
   "cell_type": "code",
   "execution_count": 20,
   "metadata": {
    "collapsed": true
   },
   "outputs": [],
   "source": [
    "# simplify balance to a binary variable, paid=[0,1] \n",
    "def to_paid(balance):\n",
    "    \"\"\"Returns 1 if balance is 0, 0 otherwise.\"\"\"\n",
    "    if balance == 0:\n",
    "        paid = 1\n",
    "    else:\n",
    "        paid = 0\n",
    "    return paid\n",
    "\n",
    "df['paid'] = df['bal'].apply(to_paid)"
   ]
  },
  {
   "cell_type": "code",
   "execution_count": 21,
   "metadata": {
    "collapsed": true
   },
   "outputs": [],
   "source": [
    "# simplify state to a binary variable, instate=[0,1]\n",
    "def to_instate(state):\n",
    "    \"\"\"Returns 1 if state is MD, 0 otherwise.\"\"\"\n",
    "    if state == 'MD': \n",
    "        instate = 1\n",
    "    else:\n",
    "        instate = 0\n",
    "    return instate\n",
    "\n",
    "df['instate'] = df['state'].apply(to_instate)"
   ]
  },
  {
   "cell_type": "code",
   "execution_count": 22,
   "metadata": {
    "collapsed": true
   },
   "outputs": [],
   "source": [
    "# quadrant classification\n",
    "def quadrant_classification(lonlat):\n",
    "    \"\"\"Ingest latitude, longitude and return city quadrant\"\"\"\n",
    "    citycenter = [-76.6122, 39.2904]   # Center of Baltimore, according to Google\n",
    "    \n",
    "    if lonlat[1] >= citycenter[1]:     # NE \n",
    "        if lonlat[0] >= citycenter[0]: # NW \n",
    "            quadrant = 'NORTHEAST'\n",
    "        else:\n",
    "            quadrant = 'NORTHWEST'\n",
    "    else:\n",
    "        if lonlat[0] >= citycenter[0]:\n",
    "            quadrant = 'SOUTHEAST'     # SE  \n",
    "        else:\n",
    "            quadrant = 'SOUTHWEST'     # SW\n",
    "    \n",
    "    return quadrant\n",
    "\n",
    "df['quad'] = df['lonlat'].apply(quadrant_classification)"
   ]
  },
  {
   "cell_type": "code",
   "execution_count": 23,
   "metadata": {
    "collapsed": true
   },
   "outputs": [],
   "source": [
    "# set DatetimeIndex \n",
    "df.index = df['date'] "
   ]
  },
  {
   "cell_type": "code",
   "execution_count": 24,
   "metadata": {},
   "outputs": [
    {
     "data": {
      "text/plain": [
       "(623208, 23)"
      ]
     },
     "execution_count": 24,
     "metadata": {},
     "output_type": "execute_result"
    }
   ],
   "source": [
    "# drop missing data based on all remaining columns \n",
    "df.dropna(axis=0, how='any', subset=['cit', 'tag', 'state', 'make', 'code', 'desc', 'fine', 'bal', 'ofine', 'openalty', 'loc'], inplace=True)\n",
    "df.shape"
   ]
  },
  {
   "cell_type": "code",
   "execution_count": 25,
   "metadata": {},
   "outputs": [
    {
     "name": "stdout",
     "output_type": "stream",
     "text": [
      "<class 'pandas.core.frame.DataFrame'>\n",
      "DatetimeIndex: 623208 entries, 2016-09-17 11:38:00 to 2017-11-07 16:15:00\n",
      "Data columns (total 23 columns):\n",
      "cit         623208 non-null int64\n",
      "tag         623208 non-null object\n",
      "state       623208 non-null object\n",
      "make        623208 non-null object\n",
      "add         623208 non-null object\n",
      "code        623208 non-null float64\n",
      "desc        623208 non-null object\n",
      "fine        623208 non-null float64\n",
      "date        623208 non-null datetime64[ns]\n",
      "bal         623208 non-null float64\n",
      "ofine       623208 non-null float64\n",
      "openalty    623208 non-null float64\n",
      "loc         623208 non-null object\n",
      "lon         623208 non-null float64\n",
      "lat         623208 non-null float64\n",
      "lonlat      623208 non-null object\n",
      "yr          623208 non-null int64\n",
      "mo          623208 non-null int64\n",
      "day         623208 non-null int64\n",
      "hr          623208 non-null int64\n",
      "paid        623208 non-null int64\n",
      "instate     623208 non-null int64\n",
      "quad        623208 non-null object\n",
      "dtypes: datetime64[ns](1), float64(7), int64(7), object(8)\n",
      "memory usage: 114.1+ MB\n"
     ]
    }
   ],
   "source": [
    "# see what df looks like after cleaning\n",
    "df.info()"
   ]
  },
  {
   "cell_type": "code",
   "execution_count": 26,
   "metadata": {},
   "outputs": [
    {
     "data": {
      "text/html": [
       "<div>\n",
       "<style scoped>\n",
       "    .dataframe tbody tr th:only-of-type {\n",
       "        vertical-align: middle;\n",
       "    }\n",
       "\n",
       "    .dataframe tbody tr th {\n",
       "        vertical-align: top;\n",
       "    }\n",
       "\n",
       "    .dataframe thead th {\n",
       "        text-align: right;\n",
       "    }\n",
       "</style>\n",
       "<table border=\"1\" class=\"dataframe\">\n",
       "  <thead>\n",
       "    <tr style=\"text-align: right;\">\n",
       "      <th></th>\n",
       "      <th>cit</th>\n",
       "      <th>tag</th>\n",
       "      <th>state</th>\n",
       "      <th>make</th>\n",
       "      <th>add</th>\n",
       "      <th>code</th>\n",
       "      <th>desc</th>\n",
       "      <th>fine</th>\n",
       "      <th>date</th>\n",
       "      <th>bal</th>\n",
       "      <th>...</th>\n",
       "      <th>lon</th>\n",
       "      <th>lat</th>\n",
       "      <th>lonlat</th>\n",
       "      <th>yr</th>\n",
       "      <th>mo</th>\n",
       "      <th>day</th>\n",
       "      <th>hr</th>\n",
       "      <th>paid</th>\n",
       "      <th>instate</th>\n",
       "      <th>quad</th>\n",
       "    </tr>\n",
       "    <tr>\n",
       "      <th>date</th>\n",
       "      <th></th>\n",
       "      <th></th>\n",
       "      <th></th>\n",
       "      <th></th>\n",
       "      <th></th>\n",
       "      <th></th>\n",
       "      <th></th>\n",
       "      <th></th>\n",
       "      <th></th>\n",
       "      <th></th>\n",
       "      <th></th>\n",
       "      <th></th>\n",
       "      <th></th>\n",
       "      <th></th>\n",
       "      <th></th>\n",
       "      <th></th>\n",
       "      <th></th>\n",
       "      <th></th>\n",
       "      <th></th>\n",
       "      <th></th>\n",
       "      <th></th>\n",
       "    </tr>\n",
       "  </thead>\n",
       "  <tbody>\n",
       "    <tr>\n",
       "      <th>2016-09-17 11:38:00</th>\n",
       "      <td>98076210</td>\n",
       "      <td>U658692</td>\n",
       "      <td>TN</td>\n",
       "      <td>DET</td>\n",
       "      <td>4800 SNADER AVE</td>\n",
       "      <td>99.0</td>\n",
       "      <td>ALL OTHER STOPPING OR PARKING VIOLATIONS</td>\n",
       "      <td>32.0</td>\n",
       "      <td>2016-09-17 11:38:00</td>\n",
       "      <td>158.0</td>\n",
       "      <td>...</td>\n",
       "      <td>-76.677205</td>\n",
       "      <td>39.340936</td>\n",
       "      <td>(-76.677205, 39.340936)</td>\n",
       "      <td>2016</td>\n",
       "      <td>9</td>\n",
       "      <td>17</td>\n",
       "      <td>11</td>\n",
       "      <td>0</td>\n",
       "      <td>0</td>\n",
       "      <td>NORTHWEST</td>\n",
       "    </tr>\n",
       "    <tr>\n",
       "      <th>2016-08-02 13:05:00</th>\n",
       "      <td>97623889</td>\n",
       "      <td>60336CE</td>\n",
       "      <td>MD</td>\n",
       "      <td>ACU</td>\n",
       "      <td>2600 FLEET ST</td>\n",
       "      <td>22.0</td>\n",
       "      <td>EXPIRED TAGS</td>\n",
       "      <td>32.0</td>\n",
       "      <td>2016-08-02 13:05:00</td>\n",
       "      <td>0.0</td>\n",
       "      <td>...</td>\n",
       "      <td>-76.579551</td>\n",
       "      <td>39.285117</td>\n",
       "      <td>(-76.579551, 39.285117)</td>\n",
       "      <td>2016</td>\n",
       "      <td>8</td>\n",
       "      <td>2</td>\n",
       "      <td>13</td>\n",
       "      <td>1</td>\n",
       "      <td>1</td>\n",
       "      <td>SOUTHEAST</td>\n",
       "    </tr>\n",
       "    <tr>\n",
       "      <th>2016-08-02 12:03:00</th>\n",
       "      <td>97623855</td>\n",
       "      <td>9CJM65</td>\n",
       "      <td>MD</td>\n",
       "      <td>TOY</td>\n",
       "      <td>700 BROADWAY</td>\n",
       "      <td>18.0</td>\n",
       "      <td>ALL OTHER PARKING METER VIOLATIONS</td>\n",
       "      <td>32.0</td>\n",
       "      <td>2016-08-02 12:03:00</td>\n",
       "      <td>0.0</td>\n",
       "      <td>...</td>\n",
       "      <td>-76.593496</td>\n",
       "      <td>39.283398</td>\n",
       "      <td>(-76.593496, 39.283398)</td>\n",
       "      <td>2016</td>\n",
       "      <td>8</td>\n",
       "      <td>2</td>\n",
       "      <td>12</td>\n",
       "      <td>1</td>\n",
       "      <td>1</td>\n",
       "      <td>SOUTHEAST</td>\n",
       "    </tr>\n",
       "  </tbody>\n",
       "</table>\n",
       "<p>3 rows × 23 columns</p>\n",
       "</div>"
      ],
      "text/plain": [
       "                          cit      tag state make              add  code  \\\n",
       "date                                                                       \n",
       "2016-09-17 11:38:00  98076210  U658692    TN  DET  4800 SNADER AVE  99.0   \n",
       "2016-08-02 13:05:00  97623889  60336CE    MD  ACU    2600 FLEET ST  22.0   \n",
       "2016-08-02 12:03:00  97623855   9CJM65    MD  TOY     700 BROADWAY  18.0   \n",
       "\n",
       "                                                         desc  fine  \\\n",
       "date                                                                  \n",
       "2016-09-17 11:38:00  ALL OTHER STOPPING OR PARKING VIOLATIONS  32.0   \n",
       "2016-08-02 13:05:00                              EXPIRED TAGS  32.0   \n",
       "2016-08-02 12:03:00        ALL OTHER PARKING METER VIOLATIONS  32.0   \n",
       "\n",
       "                                   date    bal    ...            lon  \\\n",
       "date                                              ...                  \n",
       "2016-09-17 11:38:00 2016-09-17 11:38:00  158.0    ...     -76.677205   \n",
       "2016-08-02 13:05:00 2016-08-02 13:05:00    0.0    ...     -76.579551   \n",
       "2016-08-02 12:03:00 2016-08-02 12:03:00    0.0    ...     -76.593496   \n",
       "\n",
       "                           lat                   lonlat    yr  mo day  hr  \\\n",
       "date                                                                        \n",
       "2016-09-17 11:38:00  39.340936  (-76.677205, 39.340936)  2016   9  17  11   \n",
       "2016-08-02 13:05:00  39.285117  (-76.579551, 39.285117)  2016   8   2  13   \n",
       "2016-08-02 12:03:00  39.283398  (-76.593496, 39.283398)  2016   8   2  12   \n",
       "\n",
       "                     paid  instate       quad  \n",
       "date                                           \n",
       "2016-09-17 11:38:00     0        0  NORTHWEST  \n",
       "2016-08-02 13:05:00     1        1  SOUTHEAST  \n",
       "2016-08-02 12:03:00     1        1  SOUTHEAST  \n",
       "\n",
       "[3 rows x 23 columns]"
      ]
     },
     "execution_count": 26,
     "metadata": {},
     "output_type": "execute_result"
    }
   ],
   "source": [
    "df.head(3)"
   ]
  },
  {
   "cell_type": "code",
   "execution_count": 27,
   "metadata": {
    "collapsed": true
   },
   "outputs": [],
   "source": [
    "# save clean data to new file for faster accessibility in the future\n",
    "filename = 'persistence/cleaned_data_' + str(date.today()) + '.csv'\n",
    "df.to_csv(filename, date_format='%Y-%m-%d %H:%M:%S')"
   ]
  },
  {
   "cell_type": "markdown",
   "metadata": {},
   "source": [
    "After cleaning, we have 623,208 complete records (missing data), each with 23 columns."
   ]
  }
 ],
 "metadata": {
  "kernelspec": {
   "display_name": "Python 3",
   "language": "python",
   "name": "python3"
  },
  "language_info": {
   "codemirror_mode": {
    "name": "ipython",
    "version": 3
   },
   "file_extension": ".py",
   "mimetype": "text/x-python",
   "name": "python",
   "nbconvert_exporter": "python",
   "pygments_lexer": "ipython3",
   "version": "3.6.1"
  }
 },
 "nbformat": 4,
 "nbformat_minor": 2
}
